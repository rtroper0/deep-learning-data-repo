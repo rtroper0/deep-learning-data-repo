{
 "cells": [
  {
   "cell_type": "code",
   "execution_count": 1,
   "metadata": {
    "collapsed": true
   },
   "outputs": [],
   "source": [
    "import Lib.scriptures.scripture_chapter_page as sc"
   ]
  },
  {
   "cell_type": "code",
   "execution_count": 2,
   "metadata": {
    "collapsed": true
   },
   "outputs": [],
   "source": [
    "# url of webpage to scrape\n",
    "url = 'https://www.lds.org/scriptures/nt/matt/13'\n",
    "# Get content from url\n",
    "page_soup = sc.get_content_from_url(url)\n",
    "# Parse all text from page\n",
    "all_text_from_page = sc.parse_all_text_from_page(page_soup)"
   ]
  },
  {
   "cell_type": "code",
   "execution_count": 3,
   "metadata": {},
   "outputs": [
    {
     "data": {
      "text/plain": [
       "'Chapter 13'"
      ]
     },
     "execution_count": 3,
     "metadata": {},
     "output_type": "execute_result"
    }
   ],
   "source": [
    "all_text_from_page['title']"
   ]
  },
  {
   "cell_type": "code",
   "execution_count": 4,
   "metadata": {},
   "outputs": [
    {
     "data": {
      "text/plain": [
       "'13'"
      ]
     },
     "execution_count": 4,
     "metadata": {},
     "output_type": "execute_result"
    }
   ],
   "source": [
    "all_text_from_page['number']"
   ]
  },
  {
   "cell_type": "code",
   "execution_count": 5,
   "metadata": {},
   "outputs": [
    {
     "data": {
      "text/plain": [
       "'Jesus explains why He teaches with parables—He gives the parables of the sower, the wheat and the tares, the grain of mustard seed, the leaven, the treasure hidden in the field, the pearl of great price, and the net cast into the sea—A prophet is not honored by his own people.'"
      ]
     },
     "execution_count": 5,
     "metadata": {},
     "output_type": "execute_result"
    }
   ],
   "source": [
    "all_text_from_page['summary']"
   ]
  },
  {
   "cell_type": "code",
   "execution_count": 6,
   "metadata": {},
   "outputs": [
    {
     "name": "stdout",
     "output_type": "stream",
     "text": [
      "Verse 1:\n",
      "The same day went Jesus out of the house, and sat by the sea side.\n",
      "\n",
      "Verse 2:\n",
      "And great multitudes were gathered together unto him, so that he went into a ship, and sat; and the whole multitude stood on the shore.\n",
      "\n",
      "Verse 3:\n",
      "And he spake many things unto them in parables, saying, Behold, a sower went forth to sow;\n",
      "\n",
      "Verse 4:\n",
      "And when he sowed, some seeds fell by the way side, and the fowls came and devoured them up:\n",
      "\n",
      "Verse 5:\n",
      "Some fell upon stony places, where they had not much earth: and forthwith they sprung up, because they had no deepness of earth:\n",
      "\n",
      "Verse 6:\n",
      "And when the sun was up, they were scorched; and because they had no root, they withered away.\n",
      "\n",
      "Verse 7:\n",
      "And some fell among thorns; and the thorns sprung up, and choked them:\n",
      "\n",
      "Verse 8:\n",
      "But other fell into good ground, and brought forth fruit, some an hundredfold, some sixtyfold, some thirtyfold.\n",
      "\n",
      "Verse 9:\n",
      "Who hath ears to hear, let him hear.\n",
      "\n",
      "Verse 10:\n",
      "And the disciples came, and said unto him, Why speakest thou unto them in parables?\n",
      "\n",
      "Verse 11:\n",
      "He answered and said unto them, Because it is given unto you to know the mysteries of the kingdom of heaven, but to them it is not given.\n",
      "\n",
      "Verse 12:\n",
      "For whosoever hath, to him shall be given, and he shall have more abundance: but whosoever hath not, from him shall be taken away even that he hath.\n",
      "\n",
      "Verse 13:\n",
      "Therefore speak I to them in parables: because they seeing see not; and hearing they hear not, neither do they understand.\n",
      "\n",
      "Verse 14:\n",
      "And in them is fulfilled the prophecy of Esaias, which saith, By hearing ye shall hear, and shall not understand; and seeing ye shall see, and shall not perceive:\n",
      "\n",
      "Verse 15:\n",
      "For this people’s heart is waxed gross, and their ears are dull of hearing, and their eyes they have closed; lest at any time they should see with their eyes, and hear with their ears, and should understand with their heart, and should be converted, and I should heal them.\n",
      "\n",
      "Verse 16:\n",
      "But blessed are your eyes, for they see: and your ears, for they hear.\n",
      "\n",
      "Verse 17:\n",
      "For verily I say unto you, That many prophets and righteous men have desired to see those things which ye see, and have not seen them; and to hear those things which ye hear, and have not heard them.\n",
      "\n",
      "Verse 18:\n",
      "¶ Hear ye therefore the parable of the sower.\n",
      "\n",
      "Verse 19:\n",
      "When any one heareth the word of the kingdom, and understandeth it not, then cometh the wicked one, and catcheth away that which was sown in his heart. This is he which received seed by the way side.\n",
      "\n",
      "Verse 20:\n",
      "But he that received the seed into stony places, the same is he that heareth the word, and anon with joy receiveth it;\n",
      "\n",
      "Verse 21:\n",
      "Yet hath he not root in himself, but dureth for a while: for when tribulation or persecution ariseth because of the word, by and by he is offended.\n",
      "\n",
      "Verse 22:\n",
      "He also that received seed among the thorns is he that heareth the word; and the care of this world, and the deceitfulness of riches, choke the word, and he becometh unfruitful.\n",
      "\n",
      "Verse 23:\n",
      "But he that received seed into the good ground is he that heareth the word, and understandeth it; which also beareth fruit, and bringeth forth, some an hundredfold, some sixty, some thirty.\n",
      "\n",
      "Verse 24:\n",
      "¶ Another parable put he forth unto them, saying, The kingdom of heaven is likened unto a man which sowed good seed in his field:\n",
      "\n",
      "Verse 25:\n",
      "But while men slept, his enemy came and sowed tares among the wheat, and went his way.\n",
      "\n",
      "Verse 26:\n",
      "But when the blade was sprung up, and brought forth fruit, then appeared the tares also.\n",
      "\n",
      "Verse 27:\n",
      "So the servants of the householder came and said unto him, Sir, didst not thou sow good seed in thy field? from whence then hath it tares?\n",
      "\n",
      "Verse 28:\n",
      "He said unto them, An enemy hath done this. The servants said unto him, Wilt thou then that we go and gather them up?\n",
      "\n",
      "Verse 29:\n",
      "But he said, Nay; lest while ye gather up the tares, ye root up also the wheat with them.\n",
      "\n",
      "Verse 30:\n",
      "Let both grow together until the harvest: and in the time of harvest I will say to the reapers, Gather ye together first the tares, and bind them in bundles to burn them: but gather the wheat into my barn.\n",
      "\n",
      "Verse 31:\n",
      "¶ Another parable put he forth unto them, saying, The kingdom of heaven is like to a grain of mustard seed, which a man took, and sowed in his field:\n",
      "\n",
      "Verse 32:\n",
      "Which indeed is the least of all seeds: but when it is grown, it is the greatest among herbs, and becometh a tree, so that the birds of the air come and lodge in the branches thereof.\n",
      "\n",
      "Verse 33:\n",
      "¶ Another parable spake he unto them; The kingdom of heaven is like unto leaven, which a woman took, and hid in three measures of meal, till the whole was leavened.\n",
      "\n",
      "Verse 34:\n",
      "All these things spake Jesus unto the multitude in parables; and without a parable spake he not unto them:\n",
      "\n",
      "Verse 35:\n",
      "That it might be fulfilled which was spoken by the prophet, saying, I will open my mouth in parables; I will utter things which have been kept secret from the foundation of the world.\n",
      "\n",
      "Verse 36:\n",
      "Then Jesus sent the multitude away, and went into the house: and his disciples came unto him, saying, Declare unto us the parable of the tares of the field.\n",
      "\n",
      "Verse 37:\n",
      "He answered and said unto them, He that soweth the good seed is the Son of man;\n",
      "\n",
      "Verse 38:\n",
      "The field is the world; the good seed are the children of the kingdom; but the tares are the children of the wicked one;\n",
      "\n",
      "Verse 39:\n",
      "The enemy that sowed them is the devil; the harvest is the end of the world; and the reapers are the angels.\n",
      "\n",
      "Verse 40:\n",
      "As therefore the tares are gathered and burned in the fire; so shall it be in the end of this world.\n",
      "\n",
      "Verse 41:\n",
      "The Son of man shall send forth his angels, and they shall gather out of his kingdom all things that offend, and them which do iniquity;\n",
      "\n",
      "Verse 42:\n",
      "And shall cast them into a furnace of fire: there shall be wailing and gnashing of teeth.\n",
      "\n",
      "Verse 43:\n",
      "Then shall the righteous shine forth as the sun in the kingdom of their Father. Who hath ears to hear, let him hear.\n",
      "\n",
      "Verse 44:\n",
      "¶ Again, the kingdom of heaven is like unto treasure hid in a field; the which when a man hath found, he hideth, and for joy thereof goeth and selleth all that he hath, and buyeth that field.\n",
      "\n",
      "Verse 45:\n",
      "¶ Again, the kingdom of heaven is like unto a merchant man, seeking goodly pearls:\n",
      "\n",
      "Verse 46:\n",
      "Who, when he had found one pearl of great price, went and sold all that he had, and bought it.\n",
      "\n",
      "Verse 47:\n",
      "¶ Again, the kingdom of heaven is like unto a net, that was cast into the sea, and gathered of every kind:\n",
      "\n",
      "Verse 48:\n",
      "Which, when it was full, they drew to shore, and sat down, and gathered the good into vessels, but cast the bad away.\n",
      "\n",
      "Verse 49:\n",
      "So shall it be at the end of the world: the angels shall come forth, and sever the wicked from among the just,\n",
      "\n",
      "Verse 50:\n",
      "And shall cast them into the furnace of fire: there shall be wailing and gnashing of teeth.\n",
      "\n",
      "Verse 51:\n",
      "Jesus saith unto them, Have ye understood all these things? They say unto him, Yea, Lord.\n",
      "\n",
      "Verse 52:\n",
      "Then said he unto them, Therefore every scribe which is instructed unto the kingdom of heaven is like unto a man that is an householder, which bringeth forth out of his treasure things new and old.\n",
      "\n",
      "Verse 53:\n",
      "¶ And it came to pass, that when Jesus had finished these parables, he departed thence.\n",
      "\n",
      "Verse 54:\n",
      "And when he was come into his own country, he taught them in their synagogue, insomuch that they were astonished, and said, Whence hath this man this wisdom, and these mighty works?\n",
      "\n",
      "Verse 55:\n",
      "Is not this the carpenter’s son? is not his mother called Mary? and his brethren, James, and Joses, and Simon, and Judas?\n",
      "\n",
      "Verse 56:\n",
      "And his sisters, are they not all with us? Whence then hath this man all these things?\n",
      "\n",
      "Verse 57:\n",
      "And they were offended in him. But Jesus said unto them, A prophet is not without honour, save in his own country, and in his own house.\n",
      "\n",
      "Verse 58:\n",
      "And he did not many mighty works there because of their unbelief.\n",
      "\n"
     ]
    }
   ],
   "source": [
    "for verse, text in all_text_from_page['verses']:\n",
    "    print('Verse {0}:\\n{1}\\n'.format(verse, text))"
   ]
  },
  {
   "cell_type": "code",
   "execution_count": 7,
   "metadata": {},
   "outputs": [
    {
     "data": {
      "text/plain": [
       "('49',\n",
       " 'So shall it be at the end of the world: the angels shall come forth, and sever the wicked from among the just,')"
      ]
     },
     "execution_count": 7,
     "metadata": {},
     "output_type": "execute_result"
    }
   ],
   "source": [
    "all_text_from_page['verses'][48]"
   ]
  },
  {
   "cell_type": "code",
   "execution_count": null,
   "metadata": {
    "collapsed": true
   },
   "outputs": [],
   "source": []
  },
  {
   "cell_type": "code",
   "execution_count": null,
   "metadata": {
    "collapsed": true
   },
   "outputs": [],
   "source": []
  },
  {
   "cell_type": "code",
   "execution_count": null,
   "metadata": {
    "collapsed": true
   },
   "outputs": [],
   "source": []
  }
 ],
 "metadata": {
  "kernelspec": {
   "display_name": "Python 3",
   "language": "python",
   "name": "python3"
  },
  "language_info": {
   "codemirror_mode": {
    "name": "ipython",
    "version": 3
   },
   "file_extension": ".py",
   "mimetype": "text/x-python",
   "name": "python",
   "nbconvert_exporter": "python",
   "pygments_lexer": "ipython3",
   "version": "3.6.2"
  }
 },
 "nbformat": 4,
 "nbformat_minor": 2
}
