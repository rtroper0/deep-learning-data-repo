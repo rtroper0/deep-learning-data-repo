{
 "cells": [
  {
   "cell_type": "code",
   "execution_count": 1,
   "metadata": {
    "collapsed": true
   },
   "outputs": [],
   "source": [
    "# url of webpage to scrape\n",
    "#url = 'https://www.lds.org/general-conference/1971/10/confession-and-forsaking-elements-of-genuine-repentance?lang=eng'\n",
    "#url = 'https://www.lds.org/general-conference/1981/04/the-restoration-of-israel-to-the-lands-of-their-inheritance?lang=eng'\n",
    "#url = 'https://www.lds.org/general-conference/1981/04/the-sustaining-of-church-officers?lang=eng'\n",
    "url = 'https://www.lds.org/general-conference/1981/04/church-audit-committee-report?lang=eng'\n",
    "#url = 'https://www.lds.org/general-conference/1991/10/rejoice-in-every-good-thing?lang=eng'\n",
    "#url = 'https://www.lds.org/general-conference/2001/04/how-can-i-become-the-woman-of-whom-i-dream?lang=eng'\n",
    "#url = 'https://www.lds.org/general-conference/2001/04/the-sustaining-of-church-officers?lang=eng'\n",
    "#url = 'https://www.lds.org/general-conference/2001/04/church-auditing-department-report?lang=eng'\n",
    "#url = 'https://www.lds.org/general-conference/2001/04/statistical-report-2000?lang=eng'\n",
    "#url = 'https://www.lds.org/general-conference/2011/10/what-i-hope-my-granddaughters-and-grandsons-will-understand-about-relief-society?lang=eng'\n",
    "#url = 'https://www.lds.org/general-conference/2018/10/one-in-christ?lang=eng'"
   ]
  },
  {
   "cell_type": "code",
   "execution_count": 3,
   "metadata": {},
   "outputs": [],
   "source": [
    "import Lib.general_conference.gc_talk_page as gct"
   ]
  },
  {
   "cell_type": "code",
   "execution_count": 4,
   "metadata": {
    "collapsed": true
   },
   "outputs": [],
   "source": [
    "# url of webpage to scrape\n",
    "url = 'https://www.lds.org/general-conference/1981/04/church-audit-committee-report?lang=eng'\n",
    "# Get content from url\n",
    "page_soup = gct.get_content_from_url(url)\n",
    "# Parse all text from page\n",
    "all_text_from_page = gct.parse_all_text_from_page(page_soup)"
   ]
  },
  {
   "cell_type": "code",
   "execution_count": 5,
   "metadata": {},
   "outputs": [
    {
     "data": {
      "text/plain": [
       "dict_keys(['sticky_banner', 'article_content'])"
      ]
     },
     "execution_count": 5,
     "metadata": {},
     "output_type": "execute_result"
    }
   ],
   "source": [
    "all_text_from_page.keys()"
   ]
  },
  {
   "cell_type": "code",
   "execution_count": 6,
   "metadata": {},
   "outputs": [
    {
     "data": {
      "text/plain": [
       "('April 1981', 'Church Audit Committee Report')"
      ]
     },
     "execution_count": 6,
     "metadata": {},
     "output_type": "execute_result"
    }
   ],
   "source": [
    "all_text_from_page['sticky_banner']"
   ]
  },
  {
   "cell_type": "code",
   "execution_count": 7,
   "metadata": {},
   "outputs": [
    {
     "data": {
      "text/plain": [
       "dict_keys(['title_block', 'kicker', 'content'])"
      ]
     },
     "execution_count": 7,
     "metadata": {},
     "output_type": "execute_result"
    }
   ],
   "source": [
    "article_content = all_text_from_page['article_content']\n",
    "article_content.keys()"
   ]
  },
  {
   "cell_type": "code",
   "execution_count": 8,
   "metadata": {},
   "outputs": [
    {
     "data": {
      "text/plain": [
       "('April 1981 General Conference',\n",
       " 'Church Audit Committee Report',\n",
       " ('Wilford G. Edling', ''))"
      ]
     },
     "execution_count": 8,
     "metadata": {},
     "output_type": "execute_result"
    }
   ],
   "source": [
    "article_content['title_block']"
   ]
  },
  {
   "cell_type": "code",
   "execution_count": 9,
   "metadata": {},
   "outputs": [
    {
     "data": {
      "text/plain": [
       "'To the First Presidency of The Church of Jesus Christ of Latter-day Saints'"
      ]
     },
     "execution_count": 9,
     "metadata": {},
     "output_type": "execute_result"
    }
   ],
   "source": [
    "article_content['kicker']"
   ]
  },
  {
   "cell_type": "code",
   "execution_count": 10,
   "metadata": {},
   "outputs": [
    {
     "data": {
      "text/plain": [
       "7"
      ]
     },
     "execution_count": 10,
     "metadata": {},
     "output_type": "execute_result"
    }
   ],
   "source": [
    "content_as_list, full_content = article_content['content']\n",
    "len(content_as_list)"
   ]
  },
  {
   "cell_type": "code",
   "execution_count": 11,
   "metadata": {},
   "outputs": [
    {
     "name": "stdout",
     "output_type": "stream",
     "text": [
      "True\n"
     ]
    }
   ],
   "source": [
    "print(' '.join(content_as_list) == full_content)"
   ]
  },
  {
   "cell_type": "code",
   "execution_count": 12,
   "metadata": {},
   "outputs": [
    {
     "name": "stdout",
     "output_type": "stream",
     "text": [
      "True\n"
     ]
    }
   ],
   "source": [
    "print(len(' '.join(content_as_list)) == len(full_content))"
   ]
  },
  {
   "cell_type": "code",
   "execution_count": null,
   "metadata": {
    "collapsed": true
   },
   "outputs": [],
   "source": []
  },
  {
   "cell_type": "code",
   "execution_count": 13,
   "metadata": {},
   "outputs": [
    {
     "name": "stdout",
     "output_type": "stream",
     "text": [
      "We have reviewed the annual financial report of the Church as of December 31, 1980, and the operations for the year then ended. The financial statements and operation reviewed by the committee include the general funds of the Church and of other controlled organizations, the accounts of which are maintained by the Financial Department of the Church. We have also examined the budgeting, accounting, and auditing procedures employed, and the manner in which funds are received and expenditures are controlled. We determined that expenditures of general Church funds were authorized by the First Presidency and by budgetary procedures. The budget is authorized by the Council on Disposition of the Tithes, comprised of the First Presidency, the Council for the Twelve, and the Presiding Bishopric. The Budget and Appropriations Committee, in weekly meetings, administers the expenditure of funds under the budget.\n",
      "\n",
      "Modern accounting technology and equipment are employed by the Financial Department and other departments in keeping abreast of rapid Church expansion and changing methods of electronic data processing. The committee and the Law Department are conjointly giving continuous attention to matters relating to taxation of churches by the federal government, the states, and foreign governments.\n",
      "\n",
      "The Auditing Department, which is independent of all other departments, functions in the three-fold capacity of performing financial audits, operational audits, and audits of the computer systems employed by the Church. These services are conducted on a continuous basis and include all Church departments, other Church-controlled organizations (the accounts of which are maintained in the Financial Department), and worldwide operations, including missions, financial centers, and departmental activities conducted in foreign countries. The extent and scope of the Auditing Department in safeguarding the resources of the Church are increasing commensurate with the growth and the widening activities of the Church. The audit of local funds of wards and stakes is assigned to stake auditors. Incorporated businesses owned or controlled by the Church, for which accounts are not maintained in the Financial Department, are audited by professional auditing firms or by governmental regulatory agencies.\n",
      "\n",
      "Based on our review of the annual financial report and other accounting data, and our study of the accounting and auditing methods by which financial operations are controlled, together with continuing discussions with personnel of the Financial, Auditing, and Law departments, we are of the opinion that the general funds of the Church received and expended during the year 1980 have been properly accounted for in accordance with established procedures which are outlined herein.\n",
      "\n",
      "Respectfully submitted,\n",
      "\n",
      "Church Audit Committee\n",
      "\n",
      "Ted E. Davis\n"
     ]
    }
   ],
   "source": [
    "print('\\n\\n'.join(content_as_list))"
   ]
  },
  {
   "cell_type": "code",
   "execution_count": 14,
   "metadata": {},
   "outputs": [
    {
     "name": "stdout",
     "output_type": "stream",
     "text": [
      "We have reviewed the annual financial report of the Church as of December 31, 1980, and the operations for the year then ended. The financial statements and operation reviewed by the committee include the general funds of the Church and of other controlled organizations, the accounts of which are maintained by the Financial Department of the Church. We have also examined the budgeting, accounting, and auditing procedures employed, and the manner in which funds are received and expenditures are controlled. We determined that expenditures of general Church funds were authorized by the First Presidency and by budgetary procedures. The budget is authorized by the Council on Disposition of the Tithes, comprised of the First Presidency, the Council for the Twelve, and the Presiding Bishopric. The Budget and Appropriations Committee, in weekly meetings, administers the expenditure of funds under the budget. Modern accounting technology and equipment are employed by the Financial Department and other departments in keeping abreast of rapid Church expansion and changing methods of electronic data processing. The committee and the Law Department are conjointly giving continuous attention to matters relating to taxation of churches by the federal government, the states, and foreign governments. The Auditing Department, which is independent of all other departments, functions in the three-fold capacity of performing financial audits, operational audits, and audits of the computer systems employed by the Church. These services are conducted on a continuous basis and include all Church departments, other Church-controlled organizations (the accounts of which are maintained in the Financial Department), and worldwide operations, including missions, financial centers, and departmental activities conducted in foreign countries. The extent and scope of the Auditing Department in safeguarding the resources of the Church are increasing commensurate with the growth and the widening activities of the Church. The audit of local funds of wards and stakes is assigned to stake auditors. Incorporated businesses owned or controlled by the Church, for which accounts are not maintained in the Financial Department, are audited by professional auditing firms or by governmental regulatory agencies. Based on our review of the annual financial report and other accounting data, and our study of the accounting and auditing methods by which financial operations are controlled, together with continuing discussions with personnel of the Financial, Auditing, and Law departments, we are of the opinion that the general funds of the Church received and expended during the year 1980 have been properly accounted for in accordance with established procedures which are outlined herein. Respectfully submitted, Church Audit Committee Ted E. Davis\n"
     ]
    }
   ],
   "source": [
    "print(' '.join(content_as_list))"
   ]
  },
  {
   "cell_type": "code",
   "execution_count": 15,
   "metadata": {},
   "outputs": [
    {
     "name": "stdout",
     "output_type": "stream",
     "text": [
      "We have reviewed the annual financial report of the Church as of December 31, 1980, and the operations for the year then ended. The financial statements and operation reviewed by the committee include the general funds of the Church and of other controlled organizations, the accounts of which are maintained by the Financial Department of the Church. We have also examined the budgeting, accounting, and auditing procedures employed, and the manner in which funds are received and expenditures are controlled. We determined that expenditures of general Church funds were authorized by the First Presidency and by budgetary procedures. The budget is authorized by the Council on Disposition of the Tithes, comprised of the First Presidency, the Council for the Twelve, and the Presiding Bishopric. The Budget and Appropriations Committee, in weekly meetings, administers the expenditure of funds under the budget. Modern accounting technology and equipment are employed by the Financial Department and other departments in keeping abreast of rapid Church expansion and changing methods of electronic data processing. The committee and the Law Department are conjointly giving continuous attention to matters relating to taxation of churches by the federal government, the states, and foreign governments. The Auditing Department, which is independent of all other departments, functions in the three-fold capacity of performing financial audits, operational audits, and audits of the computer systems employed by the Church. These services are conducted on a continuous basis and include all Church departments, other Church-controlled organizations (the accounts of which are maintained in the Financial Department), and worldwide operations, including missions, financial centers, and departmental activities conducted in foreign countries. The extent and scope of the Auditing Department in safeguarding the resources of the Church are increasing commensurate with the growth and the widening activities of the Church. The audit of local funds of wards and stakes is assigned to stake auditors. Incorporated businesses owned or controlled by the Church, for which accounts are not maintained in the Financial Department, are audited by professional auditing firms or by governmental regulatory agencies. Based on our review of the annual financial report and other accounting data, and our study of the accounting and auditing methods by which financial operations are controlled, together with continuing discussions with personnel of the Financial, Auditing, and Law departments, we are of the opinion that the general funds of the Church received and expended during the year 1980 have been properly accounted for in accordance with established procedures which are outlined herein. Respectfully submitted, Church Audit Committee Ted E. Davis\n"
     ]
    }
   ],
   "source": [
    "print(full_content)"
   ]
  },
  {
   "cell_type": "code",
   "execution_count": null,
   "metadata": {
    "collapsed": true
   },
   "outputs": [],
   "source": []
  },
  {
   "cell_type": "code",
   "execution_count": null,
   "metadata": {
    "collapsed": true
   },
   "outputs": [],
   "source": []
  },
  {
   "cell_type": "code",
   "execution_count": null,
   "metadata": {
    "collapsed": true
   },
   "outputs": [],
   "source": []
  }
 ],
 "metadata": {
  "kernelspec": {
   "display_name": "Python 3",
   "language": "python",
   "name": "python3"
  },
  "language_info": {
   "codemirror_mode": {
    "name": "ipython",
    "version": 3
   },
   "file_extension": ".py",
   "mimetype": "text/x-python",
   "name": "python",
   "nbconvert_exporter": "python",
   "pygments_lexer": "ipython3",
   "version": "3.6.2"
  }
 },
 "nbformat": 4,
 "nbformat_minor": 2
}
