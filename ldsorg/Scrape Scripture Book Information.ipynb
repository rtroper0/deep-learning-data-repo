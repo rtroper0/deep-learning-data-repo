{
 "cells": [
  {
   "cell_type": "code",
   "execution_count": 1,
   "metadata": {
    "collapsed": true
   },
   "outputs": [],
   "source": [
    "import os\n",
    "import time\n",
    "from tqdm import tqdm\n",
    "import pandas as pd\n",
    "import Lib.scriptures.scripture_volume_page as sv"
   ]
  },
  {
   "cell_type": "code",
   "execution_count": 2,
   "metadata": {
    "collapsed": true
   },
   "outputs": [],
   "source": [
    "# Root url\n",
    "root_url = 'https://www.lds.org/scriptures'\n",
    "# Scripture volume ids\n",
    "ot_id = 'ot'\n",
    "nt_id = 'nt'\n",
    "bm_id = 'bofm'\n",
    "dc_id = 'dc-testament'\n",
    "pgp_id = 'pgp'\n",
    "volume_ids = [ot_id, nt_id, bm_id, dc_id, pgp_id]"
   ]
  },
  {
   "cell_type": "code",
   "execution_count": 3,
   "metadata": {},
   "outputs": [
    {
     "name": "stderr",
     "output_type": "stream",
     "text": [
      "100%|████████████████████████████████████████████████████████████████████████████████████| 5/5 [00:12<00:00,  2.45s/it]\n"
     ]
    },
    {
     "name": "stdout",
     "output_type": "stream",
     "text": [
      "Wall time: 12.4 s\n"
     ]
    }
   ],
   "source": [
    "%%time\n",
    "# Get book lists for all scripture volumes\n",
    "book_lists = {}\n",
    "for id_ in tqdm(volume_ids):\n",
    "    # Current url\n",
    "    url = '/'.join([root_url, id_])\n",
    "    # Get content from url\n",
    "    page_soup = sv.get_content_from_url(url)\n",
    "    # Parse all text from page\n",
    "    all_text_from_page = sv.parse_all_text_from_page(page_soup)\n",
    "    # Add book list to book_lists\n",
    "    book_lists[id_] = all_text_from_page\n",
    "    # Add pause\n",
    "    time.sleep(2)"
   ]
  },
  {
   "cell_type": "code",
   "execution_count": 4,
   "metadata": {
    "collapsed": true
   },
   "outputs": [],
   "source": [
    "# Define function for printing out all information for a given scripture volume\n",
    "def print_volume_information(volume_id):\n",
    "    print('Name:', book_lists[volume_id]['name'])\n",
    "    print('Title:', book_lists[volume_id]['title'])\n",
    "    print('Book list:')\n",
    "    for id_, book, url in book_lists[volume_id]['books']:\n",
    "        print('{0}\\t{1}\\t{2}'.format(id_, book, url))"
   ]
  },
  {
   "cell_type": "code",
   "execution_count": 5,
   "metadata": {},
   "outputs": [
    {
     "name": "stdout",
     "output_type": "stream",
     "text": [
      "Name: Book of Mormon\n",
      "Title: The Book of Mormon Another Testament of Jesus Christ\n",
      "Book list:\n",
      "1-ne\t1 Nephi\thttps://www.lds.org/scriptures/bofm/1-ne?lang=eng\n",
      "2-ne\t2 Nephi\thttps://www.lds.org/scriptures/bofm/2-ne?lang=eng\n",
      "jacob\tJacob\thttps://www.lds.org/scriptures/bofm/jacob?lang=eng\n",
      "enos\tEnos\thttps://www.lds.org/scriptures/bofm/enos/1?lang=eng\n",
      "jarom\tJarom\thttps://www.lds.org/scriptures/bofm/jarom/1?lang=eng\n",
      "omni\tOmni\thttps://www.lds.org/scriptures/bofm/omni/1?lang=eng\n",
      "w-of-m\tWords of Mormon\thttps://www.lds.org/scriptures/bofm/w-of-m/1?lang=eng\n",
      "mosiah\tMosiah\thttps://www.lds.org/scriptures/bofm/mosiah?lang=eng\n",
      "alma\tAlma\thttps://www.lds.org/scriptures/bofm/alma?lang=eng\n",
      "hel\tHelaman\thttps://www.lds.org/scriptures/bofm/hel?lang=eng\n",
      "3-ne\t3 Nephi\thttps://www.lds.org/scriptures/bofm/3-ne?lang=eng\n",
      "4-ne\t4 Nephi\thttps://www.lds.org/scriptures/bofm/4-ne/1?lang=eng\n",
      "morm\tMormon\thttps://www.lds.org/scriptures/bofm/morm?lang=eng\n",
      "ether\tEther\thttps://www.lds.org/scriptures/bofm/ether?lang=eng\n",
      "moro\tMoroni\thttps://www.lds.org/scriptures/bofm/moro?lang=eng\n"
     ]
    }
   ],
   "source": [
    "# Print results for bm_id\n",
    "volume_id = bm_id\n",
    "print_volume_information(volume_id)"
   ]
  },
  {
   "cell_type": "code",
   "execution_count": 6,
   "metadata": {},
   "outputs": [
    {
     "name": "stdout",
     "output_type": "stream",
     "text": [
      "Wall time: 0 ns\n"
     ]
    }
   ],
   "source": [
    "%%time\n",
    "# Get volume book information in format that can be converted to dataframe\n",
    "all_scripture_book_info = []\n",
    "for volume_id in volume_ids:\n",
    "    # Get volume name and title\n",
    "    volume_name = book_lists[volume_id]['name']\n",
    "    volume_title = book_lists[volume_id]['title']\n",
    "    # Loop over books for current volume and store\n",
    "    for book_id, book_name, book_url in book_lists[volume_id]['books']:\n",
    "        # Construct the book url\n",
    "        book_url = '/'.join([root_url, volume_id, book_id])\n",
    "        # Append volume and book information to all_scripture_book_info\n",
    "        info_to_append = (volume_id, volume_name, volume_title, book_id, book_name, book_url)\n",
    "        all_scripture_book_info.append(info_to_append)"
   ]
  },
  {
   "cell_type": "code",
   "execution_count": 7,
   "metadata": {},
   "outputs": [
    {
     "data": {
      "text/html": [
       "<div>\n",
       "<style>\n",
       "    .dataframe thead tr:only-child th {\n",
       "        text-align: right;\n",
       "    }\n",
       "\n",
       "    .dataframe thead th {\n",
       "        text-align: left;\n",
       "    }\n",
       "\n",
       "    .dataframe tbody tr th {\n",
       "        vertical-align: top;\n",
       "    }\n",
       "</style>\n",
       "<table border=\"1\" class=\"dataframe\">\n",
       "  <thead>\n",
       "    <tr style=\"text-align: right;\">\n",
       "      <th></th>\n",
       "      <th>volume_id</th>\n",
       "      <th>volume_name</th>\n",
       "      <th>volume_title</th>\n",
       "      <th>book_id</th>\n",
       "      <th>book_name_1</th>\n",
       "      <th>book_url</th>\n",
       "    </tr>\n",
       "  </thead>\n",
       "  <tbody>\n",
       "    <tr>\n",
       "      <th>0</th>\n",
       "      <td>ot</td>\n",
       "      <td>Old Testament</td>\n",
       "      <td>The Old Testament</td>\n",
       "      <td>gen</td>\n",
       "      <td>Genesis</td>\n",
       "      <td>https://www.lds.org/scriptures/ot/gen</td>\n",
       "    </tr>\n",
       "    <tr>\n",
       "      <th>1</th>\n",
       "      <td>ot</td>\n",
       "      <td>Old Testament</td>\n",
       "      <td>The Old Testament</td>\n",
       "      <td>ex</td>\n",
       "      <td>Exodus</td>\n",
       "      <td>https://www.lds.org/scriptures/ot/ex</td>\n",
       "    </tr>\n",
       "    <tr>\n",
       "      <th>2</th>\n",
       "      <td>ot</td>\n",
       "      <td>Old Testament</td>\n",
       "      <td>The Old Testament</td>\n",
       "      <td>lev</td>\n",
       "      <td>Leviticus</td>\n",
       "      <td>https://www.lds.org/scriptures/ot/lev</td>\n",
       "    </tr>\n",
       "    <tr>\n",
       "      <th>3</th>\n",
       "      <td>ot</td>\n",
       "      <td>Old Testament</td>\n",
       "      <td>The Old Testament</td>\n",
       "      <td>num</td>\n",
       "      <td>Numbers</td>\n",
       "      <td>https://www.lds.org/scriptures/ot/num</td>\n",
       "    </tr>\n",
       "    <tr>\n",
       "      <th>4</th>\n",
       "      <td>ot</td>\n",
       "      <td>Old Testament</td>\n",
       "      <td>The Old Testament</td>\n",
       "      <td>deut</td>\n",
       "      <td>Deuteronomy</td>\n",
       "      <td>https://www.lds.org/scriptures/ot/deut</td>\n",
       "    </tr>\n",
       "  </tbody>\n",
       "</table>\n",
       "</div>"
      ],
      "text/plain": [
       "  volume_id    volume_name       volume_title book_id  book_name_1  \\\n",
       "0        ot  Old Testament  The Old Testament     gen      Genesis   \n",
       "1        ot  Old Testament  The Old Testament      ex       Exodus   \n",
       "2        ot  Old Testament  The Old Testament     lev    Leviticus   \n",
       "3        ot  Old Testament  The Old Testament     num      Numbers   \n",
       "4        ot  Old Testament  The Old Testament    deut  Deuteronomy   \n",
       "\n",
       "                                 book_url  \n",
       "0   https://www.lds.org/scriptures/ot/gen  \n",
       "1    https://www.lds.org/scriptures/ot/ex  \n",
       "2   https://www.lds.org/scriptures/ot/lev  \n",
       "3   https://www.lds.org/scriptures/ot/num  \n",
       "4  https://www.lds.org/scriptures/ot/deut  "
      ]
     },
     "execution_count": 7,
     "metadata": {},
     "output_type": "execute_result"
    }
   ],
   "source": [
    "# Create a dataframe with all scripture/book information\n",
    "column_labels = ['volume_id', 'volume_name', 'volume_title', 'book_id', 'book_name_1', 'book_url']\n",
    "info_df = pd.DataFrame(all_scripture_book_info, columns = column_labels)\n",
    "# Print head of dataframe\n",
    "info_df.head()"
   ]
  },
  {
   "cell_type": "code",
   "execution_count": 8,
   "metadata": {
    "collapsed": true
   },
   "outputs": [],
   "source": [
    "# Import scripture_book_page to get chapter information\n",
    "import Lib.scriptures.scripture_book_page as sb"
   ]
  },
  {
   "cell_type": "code",
   "execution_count": 9,
   "metadata": {},
   "outputs": [
    {
     "name": "stderr",
     "output_type": "stream",
     "text": [
      "100%|██████████████████████████████████████████████████████████████████████████████████| 88/88 [03:37<00:00,  2.41s/it]\n"
     ]
    },
    {
     "name": "stdout",
     "output_type": "stream",
     "text": [
      "Wall time: 3min 37s\n"
     ]
    }
   ],
   "source": [
    "%%time\n",
    "# Loop over urls and get the number of chapters in each book\n",
    "chapter_counts = []\n",
    "for url in tqdm(info_df.book_url):\n",
    "    # Get content from url\n",
    "    page_soup = sb.get_content_from_url(url)\n",
    "    # Parse all text from page\n",
    "    all_text_from_page = sb.parse_all_text_from_page(page_soup)\n",
    "    # Get book name\n",
    "    book_name = all_text_from_page['name']\n",
    "    # Get book title\n",
    "    book_title = all_text_from_page['title']\n",
    "    # Get number of chapters\n",
    "    chapter_numbers = list(chap for chap, url in all_text_from_page['chapters'] if chap.isdigit())\n",
    "    chapter_count = len(chapter_numbers)\n",
    "    # Add book name and count to chapter_counts\n",
    "    chapter_counts.append((book_name, book_title, chapter_count))\n",
    "    # Add pause\n",
    "    time.sleep(2)\n",
    "    #break"
   ]
  },
  {
   "cell_type": "code",
   "execution_count": 10,
   "metadata": {
    "collapsed": true
   },
   "outputs": [],
   "source": [
    "# Get book titles and counts in two lists\n",
    "book_name, book_title, chapter_count = [], [], []\n",
    "for name, title, count in chapter_counts:\n",
    "    book_name.append(name)\n",
    "    book_title.append(title)\n",
    "    chapter_count.append(count)"
   ]
  },
  {
   "cell_type": "code",
   "execution_count": 11,
   "metadata": {
    "collapsed": true
   },
   "outputs": [],
   "source": [
    "# Add book titles and chapter counts to the book information dataframe\n",
    "info_df['book_name_2'] = book_name\n",
    "info_df['book_title'] = book_title\n",
    "info_df['chapter_count'] = chapter_count"
   ]
  },
  {
   "cell_type": "code",
   "execution_count": 12,
   "metadata": {},
   "outputs": [
    {
     "data": {
      "text/html": [
       "<div>\n",
       "<style>\n",
       "    .dataframe thead tr:only-child th {\n",
       "        text-align: right;\n",
       "    }\n",
       "\n",
       "    .dataframe thead th {\n",
       "        text-align: left;\n",
       "    }\n",
       "\n",
       "    .dataframe tbody tr th {\n",
       "        vertical-align: top;\n",
       "    }\n",
       "</style>\n",
       "<table border=\"1\" class=\"dataframe\">\n",
       "  <thead>\n",
       "    <tr style=\"text-align: right;\">\n",
       "      <th></th>\n",
       "      <th>volume_id</th>\n",
       "      <th>volume_name</th>\n",
       "      <th>volume_title</th>\n",
       "      <th>book_id</th>\n",
       "      <th>book_name_1</th>\n",
       "      <th>book_url</th>\n",
       "      <th>book_name_2</th>\n",
       "      <th>book_title</th>\n",
       "      <th>chapter_count</th>\n",
       "    </tr>\n",
       "  </thead>\n",
       "  <tbody>\n",
       "    <tr>\n",
       "      <th>0</th>\n",
       "      <td>ot</td>\n",
       "      <td>Old Testament</td>\n",
       "      <td>The Old Testament</td>\n",
       "      <td>gen</td>\n",
       "      <td>Genesis</td>\n",
       "      <td>https://www.lds.org/scriptures/ot/gen</td>\n",
       "      <td>Genesis</td>\n",
       "      <td>The First Book of Moses Called Genesis</td>\n",
       "      <td>50</td>\n",
       "    </tr>\n",
       "    <tr>\n",
       "      <th>1</th>\n",
       "      <td>ot</td>\n",
       "      <td>Old Testament</td>\n",
       "      <td>The Old Testament</td>\n",
       "      <td>ex</td>\n",
       "      <td>Exodus</td>\n",
       "      <td>https://www.lds.org/scriptures/ot/ex</td>\n",
       "      <td>Exodus</td>\n",
       "      <td>The Second Book of Moses Called Exodus</td>\n",
       "      <td>40</td>\n",
       "    </tr>\n",
       "    <tr>\n",
       "      <th>2</th>\n",
       "      <td>ot</td>\n",
       "      <td>Old Testament</td>\n",
       "      <td>The Old Testament</td>\n",
       "      <td>lev</td>\n",
       "      <td>Leviticus</td>\n",
       "      <td>https://www.lds.org/scriptures/ot/lev</td>\n",
       "      <td>Leviticus</td>\n",
       "      <td>The Third Book of Moses Called Leviticus</td>\n",
       "      <td>27</td>\n",
       "    </tr>\n",
       "    <tr>\n",
       "      <th>3</th>\n",
       "      <td>ot</td>\n",
       "      <td>Old Testament</td>\n",
       "      <td>The Old Testament</td>\n",
       "      <td>num</td>\n",
       "      <td>Numbers</td>\n",
       "      <td>https://www.lds.org/scriptures/ot/num</td>\n",
       "      <td>Numbers</td>\n",
       "      <td>The Fourth Book of Moses Called Numbers</td>\n",
       "      <td>36</td>\n",
       "    </tr>\n",
       "    <tr>\n",
       "      <th>4</th>\n",
       "      <td>ot</td>\n",
       "      <td>Old Testament</td>\n",
       "      <td>The Old Testament</td>\n",
       "      <td>deut</td>\n",
       "      <td>Deuteronomy</td>\n",
       "      <td>https://www.lds.org/scriptures/ot/deut</td>\n",
       "      <td>Deuteronomy</td>\n",
       "      <td>The Fifth Book of Moses Called Deuteronomy</td>\n",
       "      <td>34</td>\n",
       "    </tr>\n",
       "  </tbody>\n",
       "</table>\n",
       "</div>"
      ],
      "text/plain": [
       "  volume_id    volume_name       volume_title book_id  book_name_1  \\\n",
       "0        ot  Old Testament  The Old Testament     gen      Genesis   \n",
       "1        ot  Old Testament  The Old Testament      ex       Exodus   \n",
       "2        ot  Old Testament  The Old Testament     lev    Leviticus   \n",
       "3        ot  Old Testament  The Old Testament     num      Numbers   \n",
       "4        ot  Old Testament  The Old Testament    deut  Deuteronomy   \n",
       "\n",
       "                                 book_url  book_name_2  \\\n",
       "0   https://www.lds.org/scriptures/ot/gen      Genesis   \n",
       "1    https://www.lds.org/scriptures/ot/ex       Exodus   \n",
       "2   https://www.lds.org/scriptures/ot/lev    Leviticus   \n",
       "3   https://www.lds.org/scriptures/ot/num      Numbers   \n",
       "4  https://www.lds.org/scriptures/ot/deut  Deuteronomy   \n",
       "\n",
       "                                   book_title  chapter_count  \n",
       "0      The First Book of Moses Called Genesis             50  \n",
       "1      The Second Book of Moses Called Exodus             40  \n",
       "2    The Third Book of Moses Called Leviticus             27  \n",
       "3     The Fourth Book of Moses Called Numbers             36  \n",
       "4  The Fifth Book of Moses Called Deuteronomy             34  "
      ]
     },
     "execution_count": 12,
     "metadata": {},
     "output_type": "execute_result"
    }
   ],
   "source": [
    "# Print the dataframe head\n",
    "info_df.head()"
   ]
  },
  {
   "cell_type": "code",
   "execution_count": 14,
   "metadata": {},
   "outputs": [
    {
     "name": "stdout",
     "output_type": "stream",
     "text": [
      "Wrote data to 'data/scriptures/all_scripture_books.csv'\n"
     ]
    }
   ],
   "source": [
    "# Write dataframe to file\n",
    "output_path = 'data/scriptures'\n",
    "file_and_path = '/'.join([output_path, 'all_scripture_books.csv'])\n",
    "if(not(os.path.isfile(file_and_path))):\n",
    "    info_df.to_csv(file_and_path, index=False, encoding = \"utf-8\")\n",
    "    print('Wrote data to \\'{0}\\''.format(file_and_path))\n",
    "else:\n",
    "    print('File \\'{0}\\' already exists!'.format(file_and_path))"
   ]
  },
  {
   "cell_type": "code",
   "execution_count": null,
   "metadata": {
    "collapsed": true
   },
   "outputs": [],
   "source": []
  },
  {
   "cell_type": "code",
   "execution_count": null,
   "metadata": {
    "collapsed": true
   },
   "outputs": [],
   "source": []
  }
 ],
 "metadata": {
  "kernelspec": {
   "display_name": "Python 3",
   "language": "python",
   "name": "python3"
  },
  "language_info": {
   "codemirror_mode": {
    "name": "ipython",
    "version": 3
   },
   "file_extension": ".py",
   "mimetype": "text/x-python",
   "name": "python",
   "nbconvert_exporter": "python",
   "pygments_lexer": "ipython3",
   "version": "3.6.2"
  }
 },
 "nbformat": 4,
 "nbformat_minor": 2
}
