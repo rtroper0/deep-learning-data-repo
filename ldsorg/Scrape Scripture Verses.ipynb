{
 "cells": [
  {
   "cell_type": "code",
   "execution_count": 1,
   "metadata": {
    "collapsed": true
   },
   "outputs": [],
   "source": [
    "# Import libraries\n",
    "import pandas as pd\n",
    "import Lib.scriptures.scripture_chapter_page as sc"
   ]
  },
  {
   "cell_type": "code",
   "execution_count": 2,
   "metadata": {},
   "outputs": [
    {
     "data": {
      "text/html": [
       "<div>\n",
       "<style>\n",
       "    .dataframe thead tr:only-child th {\n",
       "        text-align: right;\n",
       "    }\n",
       "\n",
       "    .dataframe thead th {\n",
       "        text-align: left;\n",
       "    }\n",
       "\n",
       "    .dataframe tbody tr th {\n",
       "        vertical-align: top;\n",
       "    }\n",
       "</style>\n",
       "<table border=\"1\" class=\"dataframe\">\n",
       "  <thead>\n",
       "    <tr style=\"text-align: right;\">\n",
       "      <th></th>\n",
       "      <th>volume_id</th>\n",
       "      <th>volume_name</th>\n",
       "      <th>volume_title</th>\n",
       "      <th>book_id</th>\n",
       "      <th>book_name_1</th>\n",
       "      <th>book_url</th>\n",
       "      <th>book_name_2</th>\n",
       "      <th>book_title</th>\n",
       "      <th>chapter_count</th>\n",
       "    </tr>\n",
       "  </thead>\n",
       "  <tbody>\n",
       "    <tr>\n",
       "      <th>0</th>\n",
       "      <td>ot</td>\n",
       "      <td>Old Testament</td>\n",
       "      <td>The Old Testament</td>\n",
       "      <td>gen</td>\n",
       "      <td>Genesis</td>\n",
       "      <td>https://www.lds.org/scriptures/ot/gen</td>\n",
       "      <td>Genesis</td>\n",
       "      <td>The First Book of Moses Called Genesis</td>\n",
       "      <td>50</td>\n",
       "    </tr>\n",
       "    <tr>\n",
       "      <th>1</th>\n",
       "      <td>ot</td>\n",
       "      <td>Old Testament</td>\n",
       "      <td>The Old Testament</td>\n",
       "      <td>ex</td>\n",
       "      <td>Exodus</td>\n",
       "      <td>https://www.lds.org/scriptures/ot/ex</td>\n",
       "      <td>Exodus</td>\n",
       "      <td>The Second Book of Moses Called Exodus</td>\n",
       "      <td>40</td>\n",
       "    </tr>\n",
       "    <tr>\n",
       "      <th>2</th>\n",
       "      <td>ot</td>\n",
       "      <td>Old Testament</td>\n",
       "      <td>The Old Testament</td>\n",
       "      <td>lev</td>\n",
       "      <td>Leviticus</td>\n",
       "      <td>https://www.lds.org/scriptures/ot/lev</td>\n",
       "      <td>Leviticus</td>\n",
       "      <td>The Third Book of Moses Called Leviticus</td>\n",
       "      <td>27</td>\n",
       "    </tr>\n",
       "  </tbody>\n",
       "</table>\n",
       "</div>"
      ],
      "text/plain": [
       "  volume_id    volume_name       volume_title book_id book_name_1  \\\n",
       "0        ot  Old Testament  The Old Testament     gen     Genesis   \n",
       "1        ot  Old Testament  The Old Testament      ex      Exodus   \n",
       "2        ot  Old Testament  The Old Testament     lev   Leviticus   \n",
       "\n",
       "                                book_url book_name_2  \\\n",
       "0  https://www.lds.org/scriptures/ot/gen     Genesis   \n",
       "1   https://www.lds.org/scriptures/ot/ex      Exodus   \n",
       "2  https://www.lds.org/scriptures/ot/lev   Leviticus   \n",
       "\n",
       "                                 book_title  chapter_count  \n",
       "0    The First Book of Moses Called Genesis             50  \n",
       "1    The Second Book of Moses Called Exodus             40  \n",
       "2  The Third Book of Moses Called Leviticus             27  "
      ]
     },
     "execution_count": 2,
     "metadata": {},
     "output_type": "execute_result"
    }
   ],
   "source": [
    "# Import scripture book information\n",
    "input_path = 'data/scriptures'\n",
    "file_and_path = '/'.join([input_path, 'all_scripture_books.csv'])\n",
    "scripture_book_info = pd.read_csv(file_and_path, encoding = \"utf-8\")\n",
    "# Fill missing book_name_2 with empty string\n",
    "scripture_book_info.book_name_2 = scripture_book_info.book_name_2.fillna('')\n",
    "scripture_book_info.head(3)"
   ]
  },
  {
   "cell_type": "code",
   "execution_count": 3,
   "metadata": {},
   "outputs": [
    {
     "name": "stdout",
     "output_type": "stream",
     "text": [
      "['gen', 'ex', 'lev', 'num', 'deut', 'josh', 'judg', 'ruth', '1-sam', '2-sam', '1-kgs', '2-kgs', '1-chr', '2-chr', 'ezra', 'neh', 'esth', 'job', 'ps', 'prov', 'eccl', 'song', 'isa', 'jer', 'lam', 'ezek', 'dan', 'hosea', 'joel', 'amos', 'obad', 'jonah', 'micah', 'nahum', 'hab', 'zeph', 'hag', 'zech', 'mal', 'matt', 'mark', 'luke', 'john', 'acts', 'rom', '1-cor', '2-cor', 'gal', 'eph', 'philip', 'col', '1-thes', '2-thes', '1-tim', '2-tim', 'titus', 'philem', 'heb', 'james', '1-pet', '2-pet', '1-jn', '2-jn', '3-jn', 'jude', 'rev', '1-ne', '2-ne', 'jacob', 'enos', 'jarom', 'omni', 'w-of-m', 'mosiah', 'alma', 'hel', '3-ne', '4-ne', 'morm', 'ether', 'moro', 'dc', 'od', 'moses', 'abr', 'js-m', 'js-h', 'a-of-f']\n"
     ]
    }
   ],
   "source": [
    "# Specify list of ids for books to scrape\n",
    "book_ids = list(scripture_book_info.book_id)\n",
    "#book_ids = book_ids[:10]\n",
    "# Print ids for books that will be scraped\n",
    "print(book_ids)"
   ]
  },
  {
   "cell_type": "code",
   "execution_count": 5,
   "metadata": {},
   "outputs": [
    {
     "name": "stdout",
     "output_type": "stream",
     "text": [
      "File 'data/scriptures/1_ot_01_gen.csv' already exists!\n",
      "File 'data/scriptures/1_ot_02_ex.csv' already exists!\n",
      "File 'data/scriptures/1_ot_03_lev.csv' already exists!\n",
      "File 'data/scriptures/1_ot_04_num.csv' already exists!\n",
      "File 'data/scriptures/1_ot_05_deut.csv' already exists!\n",
      "File 'data/scriptures/1_ot_06_josh.csv' already exists!\n",
      "File 'data/scriptures/1_ot_07_judg.csv' already exists!\n",
      "File 'data/scriptures/1_ot_08_ruth.csv' already exists!\n",
      "File 'data/scriptures/1_ot_09_1-sam.csv' already exists!\n",
      "File 'data/scriptures/1_ot_10_2-sam.csv' already exists!\n",
      "File 'data/scriptures/1_ot_11_1-kgs.csv' already exists!\n",
      "File 'data/scriptures/1_ot_12_2-kgs.csv' already exists!\n",
      "File 'data/scriptures/1_ot_13_1-chr.csv' already exists!\n",
      "File 'data/scriptures/1_ot_14_2-chr.csv' already exists!\n",
      "File 'data/scriptures/1_ot_15_ezra.csv' already exists!\n",
      "File 'data/scriptures/1_ot_16_neh.csv' already exists!\n",
      "File 'data/scriptures/1_ot_17_esth.csv' already exists!\n",
      "File 'data/scriptures/1_ot_18_job.csv' already exists!\n",
      "File 'data/scriptures/1_ot_19_ps.csv' already exists!\n",
      "File 'data/scriptures/1_ot_20_prov.csv' already exists!\n",
      "File 'data/scriptures/1_ot_21_eccl.csv' already exists!\n",
      "File 'data/scriptures/1_ot_22_song.csv' already exists!\n",
      "File 'data/scriptures/1_ot_23_isa.csv' already exists!\n",
      "File 'data/scriptures/1_ot_24_jer.csv' already exists!\n",
      "File 'data/scriptures/1_ot_25_lam.csv' already exists!\n",
      "File 'data/scriptures/1_ot_26_ezek.csv' already exists!\n",
      "File 'data/scriptures/1_ot_27_dan.csv' already exists!\n",
      "File 'data/scriptures/1_ot_28_hosea.csv' already exists!\n",
      "File 'data/scriptures/1_ot_29_joel.csv' already exists!\n",
      "File 'data/scriptures/1_ot_30_amos.csv' already exists!\n",
      "File 'data/scriptures/1_ot_31_obad.csv' already exists!\n",
      "File 'data/scriptures/1_ot_32_jonah.csv' already exists!\n",
      "File 'data/scriptures/1_ot_33_micah.csv' already exists!\n",
      "File 'data/scriptures/1_ot_34_nahum.csv' already exists!\n",
      "File 'data/scriptures/1_ot_35_hab.csv' already exists!\n",
      "File 'data/scriptures/1_ot_36_zeph.csv' already exists!\n",
      "File 'data/scriptures/1_ot_37_hag.csv' already exists!\n",
      "File 'data/scriptures/1_ot_38_zech.csv' already exists!\n",
      "File 'data/scriptures/1_ot_39_mal.csv' already exists!\n",
      "File 'data/scriptures/2_nt_01_matt.csv' already exists!\n",
      "File 'data/scriptures/2_nt_02_mark.csv' already exists!\n",
      "File 'data/scriptures/2_nt_03_luke.csv' already exists!\n",
      "File 'data/scriptures/2_nt_04_john.csv' already exists!\n",
      "File 'data/scriptures/2_nt_05_acts.csv' already exists!\n",
      "File 'data/scriptures/2_nt_06_rom.csv' already exists!\n",
      "File 'data/scriptures/2_nt_07_1-cor.csv' already exists!\n",
      "File 'data/scriptures/2_nt_08_2-cor.csv' already exists!\n",
      "File 'data/scriptures/2_nt_09_gal.csv' already exists!\n",
      "File 'data/scriptures/2_nt_10_eph.csv' already exists!\n",
      "File 'data/scriptures/2_nt_11_philip.csv' already exists!\n",
      "File 'data/scriptures/2_nt_12_col.csv' already exists!\n",
      "File 'data/scriptures/2_nt_13_1-thes.csv' already exists!\n",
      "File 'data/scriptures/2_nt_14_2-thes.csv' already exists!\n",
      "File 'data/scriptures/2_nt_15_1-tim.csv' already exists!\n",
      "File 'data/scriptures/2_nt_16_2-tim.csv' already exists!\n",
      "File 'data/scriptures/2_nt_17_titus.csv' already exists!\n",
      "File 'data/scriptures/2_nt_18_philem.csv' already exists!\n",
      "File 'data/scriptures/2_nt_19_heb.csv' already exists!\n",
      "File 'data/scriptures/2_nt_20_james.csv' already exists!\n",
      "File 'data/scriptures/2_nt_21_1-pet.csv' already exists!\n",
      "File 'data/scriptures/2_nt_22_2-pet.csv' already exists!\n",
      "File 'data/scriptures/2_nt_23_1-jn.csv' already exists!\n",
      "File 'data/scriptures/2_nt_24_2-jn.csv' already exists!\n",
      "File 'data/scriptures/2_nt_25_3-jn.csv' already exists!\n",
      "File 'data/scriptures/2_nt_26_jude.csv' already exists!\n",
      "File 'data/scriptures/2_nt_27_rev.csv' already exists!\n",
      "File 'data/scriptures/3_bofm_01_1-ne.csv' already exists!\n",
      "File 'data/scriptures/3_bofm_02_2-ne.csv' already exists!\n",
      "File 'data/scriptures/3_bofm_03_jacob.csv' already exists!\n",
      "File 'data/scriptures/3_bofm_04_enos.csv' already exists!\n",
      "File 'data/scriptures/3_bofm_05_jarom.csv' already exists!\n",
      "File 'data/scriptures/3_bofm_06_omni.csv' already exists!\n",
      "File 'data/scriptures/3_bofm_07_w-of-m.csv' already exists!\n",
      "File 'data/scriptures/3_bofm_08_mosiah.csv' already exists!\n",
      "File 'data/scriptures/3_bofm_09_alma.csv' already exists!\n",
      "File 'data/scriptures/3_bofm_10_hel.csv' already exists!\n",
      "File 'data/scriptures/3_bofm_11_3-ne.csv' already exists!\n",
      "File 'data/scriptures/3_bofm_12_4-ne.csv' already exists!\n",
      "File 'data/scriptures/3_bofm_13_morm.csv' already exists!\n",
      "File 'data/scriptures/3_bofm_14_ether.csv' already exists!\n",
      "File 'data/scriptures/3_bofm_15_moro.csv' already exists!\n",
      "File 'data/scriptures/4_dc-testament_01_dc.csv' already exists!\n",
      "File 'data/scriptures/4_dc-testament_02_od.csv' already exists!\n",
      "File 'data/scriptures/5_pgp_01_moses.csv' already exists!\n",
      "File 'data/scriptures/5_pgp_02_abr.csv' already exists!\n",
      "File 'data/scriptures/5_pgp_03_js-m.csv' already exists!\n",
      "File 'data/scriptures/5_pgp_04_js-h.csv' already exists!\n",
      "File 'data/scriptures/5_pgp_05_a-of-f.csv' already exists!\n"
     ]
    }
   ],
   "source": [
    "# Scrape books and write to output files (if file does not already exist)\n",
    "sc.scrape_verses_for_book_list(scripture_book_info, book_ids, output_path = input_path)"
   ]
  },
  {
   "cell_type": "code",
   "execution_count": null,
   "metadata": {
    "collapsed": true
   },
   "outputs": [],
   "source": []
  },
  {
   "cell_type": "code",
   "execution_count": null,
   "metadata": {
    "collapsed": true
   },
   "outputs": [],
   "source": []
  }
 ],
 "metadata": {
  "kernelspec": {
   "display_name": "Python 3",
   "language": "python",
   "name": "python3"
  },
  "language_info": {
   "codemirror_mode": {
    "name": "ipython",
    "version": 3
   },
   "file_extension": ".py",
   "mimetype": "text/x-python",
   "name": "python",
   "nbconvert_exporter": "python",
   "pygments_lexer": "ipython3",
   "version": "3.6.2"
  }
 },
 "nbformat": 4,
 "nbformat_minor": 2
}
