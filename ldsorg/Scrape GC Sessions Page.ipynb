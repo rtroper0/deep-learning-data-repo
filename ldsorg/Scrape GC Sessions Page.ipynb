{
 "cells": [
  {
   "cell_type": "code",
   "execution_count": 1,
   "metadata": {
    "collapsed": true
   },
   "outputs": [],
   "source": [
    "import Lib.general_conference.gc_sessions_page as gcs"
   ]
  },
  {
   "cell_type": "code",
   "execution_count": 2,
   "metadata": {
    "collapsed": true
   },
   "outputs": [],
   "source": [
    "# url of webpage to scrape\n",
    "url = 'https://www.lds.org/general-conference/2018/10?lang=eng'\n",
    "# Get content from url\n",
    "page_soup = gcs.get_content_from_url(url)\n",
    "# Parse all text from page\n",
    "all_text_from_page = gcs.parse_all_text_from_page(page_soup)"
   ]
  },
  {
   "cell_type": "code",
   "execution_count": 3,
   "metadata": {},
   "outputs": [
    {
     "data": {
      "text/plain": [
       "dict_keys(['conference_title', 'sessions_info'])"
      ]
     },
     "execution_count": 3,
     "metadata": {},
     "output_type": "execute_result"
    }
   ],
   "source": [
    "all_text_from_page.keys()"
   ]
  },
  {
   "cell_type": "code",
   "execution_count": 4,
   "metadata": {},
   "outputs": [
    {
     "name": "stdout",
     "output_type": "stream",
     "text": [
      "October 2018\n"
     ]
    }
   ],
   "source": [
    "conference_title = all_text_from_page['conference_title']\n",
    "print(conference_title)"
   ]
  },
  {
   "cell_type": "code",
   "execution_count": 5,
   "metadata": {},
   "outputs": [
    {
     "name": "stdout",
     "output_type": "stream",
     "text": [
      "Number of sessions: 5\n"
     ]
    }
   ],
   "source": [
    "sessions_info = all_text_from_page['sessions_info']\n",
    "print('Number of sessions:',len(sessions_info))"
   ]
  },
  {
   "cell_type": "code",
   "execution_count": 6,
   "metadata": {},
   "outputs": [
    {
     "name": "stdout",
     "output_type": "stream",
     "text": [
      "Saturday Morning Session\n"
     ]
    }
   ],
   "source": [
    "# Get first session\n",
    "s1_info = sessions_info[0]\n",
    "session_name = s1_info[0]\n",
    "session_talks = s1_info[1]\n",
    "print(session_name)"
   ]
  },
  {
   "cell_type": "code",
   "execution_count": 7,
   "metadata": {},
   "outputs": [
    {
     "name": "stdout",
     "output_type": "stream",
     "text": [
      "Opening Remarks by Russell M. Nelson: https://www.lds.org/general-conference/2018/10/opening-remarks?lang=eng\n",
      "Deep and Lasting Conversion to Heavenly Father and the Lord Jesus Christ by Quentin L. Cook: https://www.lds.org/general-conference/2018/10/deep-and-lasting-conversion-to-heavenly-father-and-the-lord-jesus-christ?lang=eng\n",
      "Lift Up Your Head and Rejoice by M. Joseph Brough: https://www.lds.org/general-conference/2018/10/lift-up-your-head-and-rejoice?lang=eng\n",
      "Laying the Foundation of a Great Work by Steven R. Bangerter: https://www.lds.org/general-conference/2018/10/laying-the-foundation-of-a-great-work?lang=eng\n",
      "Be Not Troubled by Ronald A. Rasband: https://www.lds.org/general-conference/2018/10/be-not-troubled?lang=eng\n",
      "Gather Together in One All Things in Christ by David A. Bednar: https://www.lds.org/general-conference/2018/10/gather-together-in-one-all-things-in-christ?lang=eng\n",
      "Truth and the Plan by Dallin H. Oaks: https://www.lds.org/general-conference/2018/10/truth-and-the-plan?lang=eng\n"
     ]
    }
   ],
   "source": [
    "# Print talk information\n",
    "for url, talk_info in session_talks:\n",
    "    print('{0} by {1}: {2}'.format(talk_info[0], talk_info[1], url))"
   ]
  },
  {
   "cell_type": "code",
   "execution_count": null,
   "metadata": {
    "collapsed": true
   },
   "outputs": [],
   "source": []
  },
  {
   "cell_type": "code",
   "execution_count": null,
   "metadata": {
    "collapsed": true
   },
   "outputs": [],
   "source": []
  },
  {
   "cell_type": "code",
   "execution_count": null,
   "metadata": {
    "collapsed": true
   },
   "outputs": [],
   "source": []
  },
  {
   "cell_type": "code",
   "execution_count": null,
   "metadata": {
    "collapsed": true
   },
   "outputs": [],
   "source": []
  },
  {
   "cell_type": "code",
   "execution_count": null,
   "metadata": {
    "collapsed": true
   },
   "outputs": [],
   "source": []
  }
 ],
 "metadata": {
  "kernelspec": {
   "display_name": "Python 3",
   "language": "python",
   "name": "python3"
  },
  "language_info": {
   "codemirror_mode": {
    "name": "ipython",
    "version": 3
   },
   "file_extension": ".py",
   "mimetype": "text/x-python",
   "name": "python",
   "nbconvert_exporter": "python",
   "pygments_lexer": "ipython3",
   "version": "3.6.2"
  }
 },
 "nbformat": 4,
 "nbformat_minor": 2
}
